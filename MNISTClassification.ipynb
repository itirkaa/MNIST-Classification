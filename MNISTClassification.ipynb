{
 "cells": [
  {
   "cell_type": "code",
   "execution_count": 1,
   "metadata": {},
   "outputs": [],
   "source": [
    "import warnings\n",
    "warnings.filterwarnings('ignore')"
   ]
  },
  {
   "cell_type": "code",
   "execution_count": 2,
   "metadata": {},
   "outputs": [
    {
     "data": {
      "application/javascript": [
       "\n",
       "        if (window._pyforest_update_imports_cell) { window._pyforest_update_imports_cell('import numpy as np'); }\n",
       "    "
      ],
      "text/plain": [
       "<IPython.core.display.Javascript object>"
      ]
     },
     "metadata": {},
     "output_type": "display_data"
    },
    {
     "data": {
      "application/javascript": [
       "\n",
       "        if (window._pyforest_update_imports_cell) { window._pyforest_update_imports_cell('import numpy as np'); }\n",
       "    "
      ],
      "text/plain": [
       "<IPython.core.display.Javascript object>"
      ]
     },
     "metadata": {},
     "output_type": "display_data"
    },
    {
     "data": {
      "application/javascript": [
       "\n",
       "        if (window._pyforest_update_imports_cell) { window._pyforest_update_imports_cell('import numpy as np'); }\n",
       "    "
      ],
      "text/plain": [
       "<IPython.core.display.Javascript object>"
      ]
     },
     "metadata": {},
     "output_type": "display_data"
    }
   ],
   "source": [
    "from sklearn.datasets import fetch_openml\n",
    "\n",
    "def sort_by_target(mnist):\n",
    "    reorder_train = np.array(sorted([(target, i) for i, target in enumerate(mnist.target[:60000])]))[:, 1]\n",
    "    reorder_test = np.array(sorted([(target, i) for i, target in enumerate(mnist.target[60000:])]))[:, 1]\n",
    "    mnist.data[:60000] = mnist.data[reorder_train]\n",
    "    mnist.target[:60000] = mnist.target[reorder_train]\n",
    "    mnist.data[60000:] = mnist.data[reorder_test + 60000]\n",
    "    mnist.target[60000:] = mnist.target[reorder_test + 60000]\n",
    "\n",
    "mnist = fetch_openml('mnist_784', version=1, cache=True)\n",
    "mnist.target = mnist.target.astype(np.int8) # fetch_openml() returns targets as strings\n",
    "sort_by_target(mnist) # fetch_openml() returns an unsorted dataset"
   ]
  },
  {
   "cell_type": "code",
   "execution_count": 3,
   "metadata": {},
   "outputs": [
    {
     "name": "stdout",
     "output_type": "stream",
     "text": [
      "X shape: (70000, 784) \t y shape: (70000,)\n"
     ]
    }
   ],
   "source": [
    "X, y = mnist['data'], mnist['target']\n",
    "print(\"X shape: {} \\t y shape: {}\".format(X.shape, y.shape))"
   ]
  },
  {
   "cell_type": "code",
   "execution_count": 51,
   "metadata": {},
   "outputs": [
    {
     "data": {
      "text/plain": [
       "(-0.5, 27.5, 27.5, -0.5)"
      ]
     },
     "execution_count": 51,
     "metadata": {},
     "output_type": "execute_result"
    },
    {
     "data": {
      "image/png": "[encoded data removed]",
      "text/plain": [
       "<Figure size 432x288 with 1 Axes>"
      ]
     },
     "metadata": {
      "needs_background": "light"
     },
     "output_type": "display_data"
    }
   ],
   "source": [
    "import matplotlib\n",
    "import matplotlib.pyplot as plt\n",
    "\n",
    "some_digit = X[40000]\n",
    "some_digit_image = some_digit.reshape(28, 28)\n",
    "\n",
    "plt.imshow(some_digit_image, cmap = matplotlib.cm.binary, \n",
    "          interpolation='nearest')\n",
    "plt.axis('off')"
   ]
  },
  {
   "cell_type": "code",
   "execution_count": 5,
   "metadata": {},
   "outputs": [
    {
     "data": {
      "text/plain": [
       "6"
      ]
     },
     "execution_count": 5,
     "metadata": {},
     "output_type": "execute_result"
    }
   ],
   "source": [
    "y[40000]"
   ]
  },
  {
   "cell_type": "code",
   "execution_count": 6,
   "metadata": {},
   "outputs": [],
   "source": [
    "X_train, X_test, y_train, y_test = X[:60000], X[60000:], y[:60000], y[60000:]"
   ]
  },
  {
   "cell_type": "code",
   "execution_count": 7,
   "metadata": {},
   "outputs": [],
   "source": [
    "import numpy as np\n",
    "\n",
    "shuffle_index = np.random.permutation(60000)\n",
    "X_train, y_train = X_train[shuffle_index], y_train[shuffle_index]"
   ]
  },
  {
   "cell_type": "markdown",
   "metadata": {},
   "source": [
    "### Training Binary Classifier\n",
    "\n",
    "Classifier to detect if number is 6 or not i.e. number 6-detector"
   ]
  },
  {
   "cell_type": "code",
   "execution_count": 8,
   "metadata": {},
   "outputs": [],
   "source": [
    "y_train_6 = (y_train == 6)\n",
    "y_test_6 = (y_test == 6)"
   ]
  },
  {
   "cell_type": "code",
   "execution_count": 9,
   "metadata": {},
   "outputs": [
    {
     "data": {
      "text/plain": [
       "SGDClassifier(alpha=0.0001, average=False, class_weight=None,\n",
       "       early_stopping=False, epsilon=0.1, eta0=0.0, fit_intercept=True,\n",
       "       l1_ratio=0.15, learning_rate='optimal', loss='hinge', max_iter=None,\n",
       "       n_iter=None, n_iter_no_change=5, n_jobs=None, penalty='l2',\n",
       "       power_t=0.5, random_state=42, shuffle=True, tol=None,\n",
       "       validation_fraction=0.1, verbose=0, warm_start=False)"
      ]
     },
     "execution_count": 9,
     "metadata": {},
     "output_type": "execute_result"
    }
   ],
   "source": [
    "from sklearn.linear_model import SGDClassifier\n",
    "\n",
    "sgd_clf = SGDClassifier(random_state=42)\n",
    "sgd_clf.fit(X_train, y_train_6)"
   ]
  },
  {
   "cell_type": "code",
   "execution_count": 10,
   "metadata": {},
   "outputs": [
    {
     "data": {
      "text/plain": [
       "array([ True])"
      ]
     },
     "execution_count": 10,
     "metadata": {},
     "output_type": "execute_result"
    }
   ],
   "source": [
    "sgd_clf.predict([some_digit])"
   ]
  },
  {
   "cell_type": "markdown",
   "metadata": {},
   "source": [
    "#### Performance Measures\n",
    "##### Measuring accuracy using Cross-Validation"
   ]
  },
  {
   "cell_type": "code",
   "execution_count": 11,
   "metadata": {},
   "outputs": [
    {
     "name": "stdout",
     "output_type": "stream",
     "text": [
      "0.9416029198540073\n",
      "0.9786\n",
      "0.9808990449522477\n"
     ]
    }
   ],
   "source": [
    "from sklearn.model_selection import StratifiedKFold # performs stratified sampling to produce folds\n",
    "from sklearn.base import clone\n",
    "\n",
    "skfolds = StratifiedKFold(n_splits=3, random_state=42)\n",
    "\n",
    "for train_index, test_index in skfolds.split(X_train, y_train_6):\n",
    "    # Each iteration creates a clone of classifier\n",
    "    clone_clf = clone(sgd_clf)\n",
    "    X_train_folds = X_train[train_index]\n",
    "    y_train_folds = (y_train_6[train_index])\n",
    "    X_test_folds = X_train[test_index]\n",
    "    y_test_folds = (y_train_6[test_index])\n",
    "    \n",
    "    clone_clf.fit(X_train_folds, y_train_folds) # Training each clone on training folds\n",
    "    y_pred = clone_clf.predict(X_test_folds)    # Predictions for testing fold\n",
    "    n_correct = sum(y_pred == y_test_folds)     # No of correct predictions\n",
    "    print(n_correct / len(y_pred))              # Ratio of correct predictions"
   ]
  },
  {
   "cell_type": "code",
   "execution_count": 12,
   "metadata": {},
   "outputs": [
    {
     "data": {
      "text/plain": [
       "array([0.94160292, 0.9786    , 0.98089904])"
      ]
     },
     "execution_count": 12,
     "metadata": {},
     "output_type": "execute_result"
    }
   ],
   "source": [
    "from sklearn.model_selection import cross_val_score\n",
    "\n",
    "cross_val_score(sgd_clf, X_train, y_train_6, cv=3, scoring='accuracy')"
   ]
  },
  {
   "cell_type": "markdown",
   "metadata": {},
   "source": [
    "We can observe accuracy of more than 97%\n",
    "\n",
    "Classifier to classify every number which is in 'Not-6' class:"
   ]
  },
  {
   "cell_type": "code",
   "execution_count": 13,
   "metadata": {},
   "outputs": [
    {
     "data": {
      "text/plain": [
       "array([0.90235, 0.8994 , 0.90235])"
      ]
     },
     "execution_count": 13,
     "metadata": {},
     "output_type": "execute_result"
    }
   ],
   "source": [
    "from sklearn.base import BaseEstimator\n",
    "\n",
    "class Never6Classifier(BaseEstimator):\n",
    "    def fit(self, X, y=None):\n",
    "        pass\n",
    "    def predict(self, X):\n",
    "        return np.zeros((len(X), 1), dtype=bool)\n",
    "    \n",
    "never_6_clf = Never6Classifier()\n",
    "cross_val_score(never_6_clf, X_train, y_train_6, cv=3, scoring='accuracy')"
   ]
  },
  {
   "cell_type": "markdown",
   "metadata": {},
   "source": [
    "We can notice how even a dumb class predicted with 90% accuracy. This is because only about 10% of the images are of 6, so if you always guess false, you will be right 90% of the time. This shows skewness of data ie some classes are more frequent than others"
   ]
  },
  {
   "cell_type": "markdown",
   "metadata": {},
   "source": [
    "#### Confusion Matrix\n",
    "The general idea is to count no. of times class A has been classified as class B"
   ]
  },
  {
   "cell_type": "code",
   "execution_count": 14,
   "metadata": {},
   "outputs": [
    {
     "data": {
      "text/plain": [
       "array([[52621,  1461],\n",
       "       [  517,  5401]], dtype=int64)"
      ]
     },
     "execution_count": 14,
     "metadata": {},
     "output_type": "execute_result"
    }
   ],
   "source": [
    "from sklearn.model_selection import cross_val_predict # similar to cross_val_scores but returns predictions instead of scores\n",
    "from sklearn.metrics import confusion_matrix\n",
    "\n",
    "y_train_pred = cross_val_predict(sgd_clf, X_train, y_train_6, cv=3)\n",
    "confusion_matrix(y_train_6, y_train_pred)"
   ]
  },
  {
   "cell_type": "markdown",
   "metadata": {},
   "source": [
    "---\n",
    "#### Note: \n",
    "[[r1c1, r1c2],\n",
    " [r2c1, r2c2]]\n",
    " \n",
    "Here rows represent actual values ie \n",
    "- r1: non 6 images\n",
    "- r2: 6 images\n",
    "                                      \n",
    "And columns represent predicted values ie \n",
    "- c1: non 6 images\n",
    "- c2: 6 images\n",
    "\n",
    "This means \n",
    "- r1c1 is no. of correct predictions for non 6 images\n",
    "- r1c1 is no. of incorrect predictions for non 6 images\n",
    "- r1c1 is no. of incorrect predictions for 6 images\n",
    "- r1c1 is no. of correct predictions for 6 images\n",
    "\n",
    "---"
   ]
  },
  {
   "cell_type": "code",
   "execution_count": 15,
   "metadata": {},
   "outputs": [
    {
     "data": {
      "text/plain": [
       "array([[54082,     0],\n",
       "       [    0,  5918]], dtype=int64)"
      ]
     },
     "execution_count": 15,
     "metadata": {},
     "output_type": "execute_result"
    }
   ],
   "source": [
    "y_train_perfect_preds = y_train_6\n",
    "confusion_matrix(y_train_6, y_train_perfect_preds)"
   ]
  },
  {
   "cell_type": "markdown",
   "metadata": {},
   "source": [
    "---\n",
    "#### Recall and Precision"
   ]
  },
  {
   "cell_type": "code",
   "execution_count": 16,
   "metadata": {},
   "outputs": [
    {
     "name": "stdout",
     "output_type": "stream",
     "text": [
      "Precision score:  0.7870883124453512\n",
      "Recall score:  0.912639405204461\n"
     ]
    }
   ],
   "source": [
    "from sklearn.metrics import precision_score, recall_score\n",
    "\n",
    "print(\"Precision score: \", precision_score(y_train_6, y_train_pred)) \n",
    "print(\"Recall score: \", recall_score(y_train_6, y_train_pred))"
   ]
  },
  {
   "cell_type": "markdown",
   "metadata": {},
   "source": [
    "---\n",
    "Precision score represents that prediction of image 6 is right for 89% of times ie if 100 images of various numbers are identified as 6 than only 89 of them are actually images of 6.\n",
    "\n",
    "Recall score represents about 91% of images of 6 are identified correctly ie. out of 100 images of 6 only 91 are identified as 6 rest are not\n",
    "\n",
    "---"
   ]
  },
  {
   "cell_type": "code",
   "execution_count": 17,
   "metadata": {},
   "outputs": [
    {
     "data": {
      "text/plain": [
       "0.845226917057903"
      ]
     },
     "execution_count": 17,
     "metadata": {},
     "output_type": "execute_result"
    }
   ],
   "source": [
    "from sklearn.metrics import f1_score\n",
    "\n",
    "f1_score(y_train_6, y_train_pred) # f1 favours classifier with similar precision and recall score"
   ]
  },
  {
   "cell_type": "code",
   "execution_count": 18,
   "metadata": {},
   "outputs": [
    {
     "data": {
      "text/plain": [
       "array([112219.94512412])"
      ]
     },
     "execution_count": 18,
     "metadata": {},
     "output_type": "execute_result"
    }
   ],
   "source": [
    "y_scores = sgd_clf.decision_function([some_digit])\n",
    "y_scores"
   ]
  },
  {
   "cell_type": "code",
   "execution_count": 19,
   "metadata": {},
   "outputs": [
    {
     "data": {
      "text/plain": [
       "array([ True])"
      ]
     },
     "execution_count": 19,
     "metadata": {},
     "output_type": "execute_result"
    }
   ],
   "source": [
    "threshold = 0\n",
    "y_some_digit_pred = (y_scores > threshold)\n",
    "y_some_digit_pred"
   ]
  },
  {
   "cell_type": "code",
   "execution_count": 20,
   "metadata": {},
   "outputs": [
    {
     "data": {
      "text/plain": [
       "array([False])"
      ]
     },
     "execution_count": 20,
     "metadata": {},
     "output_type": "execute_result"
    }
   ],
   "source": [
    "threshold = 200000\n",
    "y_some_digit_pred = (y_scores > threshold)\n",
    "y_some_digit_pred"
   ]
  },
  {
   "cell_type": "markdown",
   "metadata": {},
   "source": [
    "This confirms that raising the threshold decreases recall."
   ]
  },
  {
   "cell_type": "code",
   "execution_count": 21,
   "metadata": {},
   "outputs": [],
   "source": [
    "y_scores = cross_val_predict(sgd_clf, X_train, y_train_6, cv=3, method=\"decision_function\")\n",
    "\n",
    "from sklearn.metrics import precision_recall_curve\n",
    "precisions, recalls, thresholds = precision_recall_curve(y_train_6, y_scores)"
   ]
  },
  {
   "cell_type": "code",
   "execution_count": 22,
   "metadata": {},
   "outputs": [
    {
     "data": {
      "image/png": "[encoded data removed]",
      "text/plain": [
       "<Figure size 432x288 with 1 Axes>"
      ]
     },
     "metadata": {
      "needs_background": "light"
     },
     "output_type": "display_data"
    }
   ],
   "source": [
    "def plot_precision_recall_vs_threshold(precisions, recalls, thresholds):\n",
    "    plt.plot(thresholds, precisions[:-1], \"b--\", label=\"Precision\")\n",
    "    plt.plot(thresholds, recalls[:-1], \"g-\", label=\"Recall\")\n",
    "    plt.xlabel(\"Threshold\")\n",
    "    plt.legend(loc=\"upper left\")\n",
    "    plt.ylim([0, 1])\n",
    "\n",
    "plot_precision_recall_vs_threshold(precisions, recalls, thresholds)"
   ]
  },
  {
   "cell_type": "markdown",
   "metadata": {},
   "source": [
    "#### ROC Curve\n",
    "Plots true positive rate against false positive rate."
   ]
  },
  {
   "cell_type": "code",
   "execution_count": 23,
   "metadata": {},
   "outputs": [
    {
     "data": {
      "image/png": "[encoded data removed]",
      "text/plain": [
       "<Figure size 432x288 with 1 Axes>"
      ]
     },
     "metadata": {
      "needs_background": "light"
     },
     "output_type": "display_data"
    }
   ],
   "source": [
    "from sklearn.metrics import roc_curve\n",
    "\n",
    "fpr, tpr, thresholds = roc_curve(y_train_6, y_scores)\n",
    "\n",
    "def plot_roc_curve(fpr=fpr, tpr=tpr, label=None):\n",
    "    plt.plot(fpr, tpr, linewidth=2, label=label)\n",
    "    plt.plot([0, 1], [0, 1], 'k--')\n",
    "    plt.axis([0, 1, 0, 1])\n",
    "    plt.xlabel('False Positive Rate')\n",
    "    plt.ylabel('True Positive Rate') # recall\n",
    "    \n",
    "plot_roc_curve()\n",
    "plt.show()"
   ]
  },
  {
   "cell_type": "markdown",
   "metadata": {},
   "source": [
    "---\n",
    "Once again, higher the TPR, lesser th FPR. The dotted line represents ROC curve of a purely random classifier; a good classifier stays far from that dotted line\n",
    "\n",
    "---"
   ]
  },
  {
   "cell_type": "code",
   "execution_count": 24,
   "metadata": {},
   "outputs": [
    {
     "data": {
      "text/plain": [
       "0.9852320026619236"
      ]
     },
     "execution_count": 24,
     "metadata": {},
     "output_type": "execute_result"
    }
   ],
   "source": [
    "# Area Under the curve\n",
    "# Perfect classifer has AUC = 1\n",
    "from sklearn.metrics import roc_auc_score\n",
    "roc_auc_score(y_train_6, y_scores)"
   ]
  },
  {
   "cell_type": "code",
   "execution_count": 25,
   "metadata": {},
   "outputs": [
    {
     "data": {
      "image/png": "[encoded data removed]",
      "text/plain": [
       "<Figure size 432x288 with 1 Axes>"
      ]
     },
     "metadata": {
      "needs_background": "light"
     },
     "output_type": "display_data"
    }
   ],
   "source": [
    "# Random Forest Classifier\n",
    "from sklearn.ensemble import RandomForestClassifier\n",
    "\n",
    "forest_clf = RandomForestClassifier(random_state=42)\n",
    "y_probas_forest = cross_val_predict(forest_clf, X_train, y_train_6, cv=3,\n",
    "                                    method='predict_proba')\n",
    "\n",
    "y_scores_forest = y_probas_forest[:, 1]\n",
    "fpr_forest, tpr_forest, thresholds_forest = roc_curve(y_train_6, y_scores_forest)\n",
    "\n",
    "plt.plot(fpr, tpr, \"b:\", label=\"SGD\")\n",
    "plot_roc_curve(fpr_forest, tpr_forest, \"Random Forest\")"
   ]
  },
  {
   "cell_type": "markdown",
   "metadata": {},
   "source": [
    "*********** \n",
    "Note, how curve of Random Forest is farther away form the dotted line compared to SGD Curve"
   ]
  },
  {
   "cell_type": "code",
   "execution_count": 26,
   "metadata": {},
   "outputs": [
    {
     "data": {
      "text/plain": [
       "0.9969783861436101"
      ]
     },
     "execution_count": 26,
     "metadata": {},
     "output_type": "execute_result"
    }
   ],
   "source": [
    "roc_auc_score(y_train_6, y_scores_forest)"
   ]
  },
  {
   "cell_type": "code",
   "execution_count": 27,
   "metadata": {},
   "outputs": [
    {
     "name": "stdout",
     "output_type": "stream",
     "text": [
      "Precision score:  0.9870838639257777\n",
      "Recall score:  0.9168638053396417\n"
     ]
    }
   ],
   "source": [
    "y_train_pred_forest = cross_val_predict(forest_clf, X_train, y_train_6, cv=3)\n",
    "\n",
    "print(\"Precision score: \", precision_score(y_train_6, y_train_pred_forest)) \n",
    "print(\"Recall score: \", recall_score(y_train_6, y_train_pred_forest))"
   ]
  },
  {
   "cell_type": "markdown",
   "metadata": {},
   "source": [
    "---\n",
    "### Multiclass Classifier"
   ]
  },
  {
   "cell_type": "code",
   "execution_count": 28,
   "metadata": {},
   "outputs": [
    {
     "data": {
      "text/plain": [
       "array([6], dtype=int8)"
      ]
     },
     "execution_count": 28,
     "metadata": {},
     "output_type": "execute_result"
    }
   ],
   "source": [
    "sgd_clf.fit(X_train, y_train)\n",
    "sgd_clf.predict([some_digit])"
   ]
  },
  {
   "cell_type": "code",
   "execution_count": 29,
   "metadata": {},
   "outputs": [
    {
     "data": {
      "text/plain": [
       "array([[-785838.31350559, -950826.23380641, -294104.67810887,\n",
       "        -508622.62958618, -383757.85647072, -786394.53897059,\n",
       "         112219.94512412, -828487.12821712, -810998.74336819,\n",
       "        -804952.08131232]])"
      ]
     },
     "execution_count": 29,
     "metadata": {},
     "output_type": "execute_result"
    }
   ],
   "source": [
    "some_digit_scores = sgd_clf.decision_function([some_digit])\n",
    "some_digit_scores"
   ]
  },
  {
   "cell_type": "markdown",
   "metadata": {},
   "source": [
    "In SGD Classifier, sklearn trains 10 different binary classifers. The class with highest decision score is selected. In this case 6 has highest score, so it is predicted class"
   ]
  },
  {
   "cell_type": "code",
   "execution_count": 30,
   "metadata": {},
   "outputs": [
    {
     "data": {
      "text/plain": [
       "6"
      ]
     },
     "execution_count": 30,
     "metadata": {},
     "output_type": "execute_result"
    }
   ],
   "source": [
    "np.argmax(some_digit_scores)"
   ]
  },
  {
   "cell_type": "code",
   "execution_count": 31,
   "metadata": {},
   "outputs": [
    {
     "data": {
      "text/plain": [
       "array([0, 1, 2, 3, 4, 5, 6, 7, 8, 9], dtype=int8)"
      ]
     },
     "execution_count": 31,
     "metadata": {},
     "output_type": "execute_result"
    }
   ],
   "source": [
    "sgd_clf.classes_"
   ]
  },
  {
   "cell_type": "code",
   "execution_count": 32,
   "metadata": {},
   "outputs": [
    {
     "data": {
      "text/plain": [
       "array([6], dtype=int8)"
      ]
     },
     "execution_count": 32,
     "metadata": {},
     "output_type": "execute_result"
    }
   ],
   "source": [
    "from sklearn.multiclass import OneVsOneClassifier\n",
    "ovo_clf = OneVsOneClassifier(SGDClassifier(random_state=42))\n",
    "ovo_clf.fit(X_train, y_train)\n",
    "ovo_clf.predict([some_digit])"
   ]
  },
  {
   "cell_type": "code",
   "execution_count": 33,
   "metadata": {},
   "outputs": [
    {
     "data": {
      "text/plain": [
       "(SGDClassifier(alpha=0.0001, average=False, class_weight=None,\n",
       "        early_stopping=False, epsilon=0.1, eta0=0.0, fit_intercept=True,\n",
       "        l1_ratio=0.15, learning_rate='optimal', loss='hinge', max_iter=None,\n",
       "        n_iter=None, n_iter_no_change=5, n_jobs=None, penalty='l2',\n",
       "        power_t=0.5, random_state=42, shuffle=True, tol=None,\n",
       "        validation_fraction=0.1, verbose=0, warm_start=False),\n",
       " SGDClassifier(alpha=0.0001, average=False, class_weight=None,\n",
       "        early_stopping=False, epsilon=0.1, eta0=0.0, fit_intercept=True,\n",
       "        l1_ratio=0.15, learning_rate='optimal', loss='hinge', max_iter=None,\n",
       "        n_iter=None, n_iter_no_change=5, n_jobs=None, penalty='l2',\n",
       "        power_t=0.5, random_state=42, shuffle=True, tol=None,\n",
       "        validation_fraction=0.1, verbose=0, warm_start=False),\n",
       " SGDClassifier(alpha=0.0001, average=False, class_weight=None,\n",
       "        early_stopping=False, epsilon=0.1, eta0=0.0, fit_intercept=True,\n",
       "        l1_ratio=0.15, learning_rate='optimal', loss='hinge', max_iter=None,\n",
       "        n_iter=None, n_iter_no_change=5, n_jobs=None, penalty='l2',\n",
       "        power_t=0.5, random_state=42, shuffle=True, tol=None,\n",
       "        validation_fraction=0.1, verbose=0, warm_start=False),\n",
       " SGDClassifier(alpha=0.0001, average=False, class_weight=None,\n",
       "        early_stopping=False, epsilon=0.1, eta0=0.0, fit_intercept=True,\n",
       "        l1_ratio=0.15, learning_rate='optimal', loss='hinge', max_iter=None,\n",
       "        n_iter=None, n_iter_no_change=5, n_jobs=None, penalty='l2',\n",
       "        power_t=0.5, random_state=42, shuffle=True, tol=None,\n",
       "        validation_fraction=0.1, verbose=0, warm_start=False),\n",
       " SGDClassifier(alpha=0.0001, average=False, class_weight=None,\n",
       "        early_stopping=False, epsilon=0.1, eta0=0.0, fit_intercept=True,\n",
       "        l1_ratio=0.15, learning_rate='optimal', loss='hinge', max_iter=None,\n",
       "        n_iter=None, n_iter_no_change=5, n_jobs=None, penalty='l2',\n",
       "        power_t=0.5, random_state=42, shuffle=True, tol=None,\n",
       "        validation_fraction=0.1, verbose=0, warm_start=False),\n",
       " SGDClassifier(alpha=0.0001, average=False, class_weight=None,\n",
       "        early_stopping=False, epsilon=0.1, eta0=0.0, fit_intercept=True,\n",
       "        l1_ratio=0.15, learning_rate='optimal', loss='hinge', max_iter=None,\n",
       "        n_iter=None, n_iter_no_change=5, n_jobs=None, penalty='l2',\n",
       "        power_t=0.5, random_state=42, shuffle=True, tol=None,\n",
       "        validation_fraction=0.1, verbose=0, warm_start=False),\n",
       " SGDClassifier(alpha=0.0001, average=False, class_weight=None,\n",
       "        early_stopping=False, epsilon=0.1, eta0=0.0, fit_intercept=True,\n",
       "        l1_ratio=0.15, learning_rate='optimal', loss='hinge', max_iter=None,\n",
       "        n_iter=None, n_iter_no_change=5, n_jobs=None, penalty='l2',\n",
       "        power_t=0.5, random_state=42, shuffle=True, tol=None,\n",
       "        validation_fraction=0.1, verbose=0, warm_start=False),\n",
       " SGDClassifier(alpha=0.0001, average=False, class_weight=None,\n",
       "        early_stopping=False, epsilon=0.1, eta0=0.0, fit_intercept=True,\n",
       "        l1_ratio=0.15, learning_rate='optimal', loss='hinge', max_iter=None,\n",
       "        n_iter=None, n_iter_no_change=5, n_jobs=None, penalty='l2',\n",
       "        power_t=0.5, random_state=42, shuffle=True, tol=None,\n",
       "        validation_fraction=0.1, verbose=0, warm_start=False),\n",
       " SGDClassifier(alpha=0.0001, average=False, class_weight=None,\n",
       "        early_stopping=False, epsilon=0.1, eta0=0.0, fit_intercept=True,\n",
       "        l1_ratio=0.15, learning_rate='optimal', loss='hinge', max_iter=None,\n",
       "        n_iter=None, n_iter_no_change=5, n_jobs=None, penalty='l2',\n",
       "        power_t=0.5, random_state=42, shuffle=True, tol=None,\n",
       "        validation_fraction=0.1, verbose=0, warm_start=False),\n",
       " SGDClassifier(alpha=0.0001, average=False, class_weight=None,\n",
       "        early_stopping=False, epsilon=0.1, eta0=0.0, fit_intercept=True,\n",
       "        l1_ratio=0.15, learning_rate='optimal', loss='hinge', max_iter=None,\n",
       "        n_iter=None, n_iter_no_change=5, n_jobs=None, penalty='l2',\n",
       "        power_t=0.5, random_state=42, shuffle=True, tol=None,\n",
       "        validation_fraction=0.1, verbose=0, warm_start=False),\n",
       " SGDClassifier(alpha=0.0001, average=False, class_weight=None,\n",
       "        early_stopping=False, epsilon=0.1, eta0=0.0, fit_intercept=True,\n",
       "        l1_ratio=0.15, learning_rate='optimal', loss='hinge', max_iter=None,\n",
       "        n_iter=None, n_iter_no_change=5, n_jobs=None, penalty='l2',\n",
       "        power_t=0.5, random_state=42, shuffle=True, tol=None,\n",
       "        validation_fraction=0.1, verbose=0, warm_start=False),\n",
       " SGDClassifier(alpha=0.0001, average=False, class_weight=None,\n",
       "        early_stopping=False, epsilon=0.1, eta0=0.0, fit_intercept=True,\n",
       "        l1_ratio=0.15, learning_rate='optimal', loss='hinge', max_iter=None,\n",
       "        n_iter=None, n_iter_no_change=5, n_jobs=None, penalty='l2',\n",
       "        power_t=0.5, random_state=42, shuffle=True, tol=None,\n",
       "        validation_fraction=0.1, verbose=0, warm_start=False),\n",
       " SGDClassifier(alpha=0.0001, average=False, class_weight=None,\n",
       "        early_stopping=False, epsilon=0.1, eta0=0.0, fit_intercept=True,\n",
       "        l1_ratio=0.15, learning_rate='optimal', loss='hinge', max_iter=None,\n",
       "        n_iter=None, n_iter_no_change=5, n_jobs=None, penalty='l2',\n",
       "        power_t=0.5, random_state=42, shuffle=True, tol=None,\n",
       "        validation_fraction=0.1, verbose=0, warm_start=False),\n",
       " SGDClassifier(alpha=0.0001, average=False, class_weight=None,\n",
       "        early_stopping=False, epsilon=0.1, eta0=0.0, fit_intercept=True,\n",
       "        l1_ratio=0.15, learning_rate='optimal', loss='hinge', max_iter=None,\n",
       "        n_iter=None, n_iter_no_change=5, n_jobs=None, penalty='l2',\n",
       "        power_t=0.5, random_state=42, shuffle=True, tol=None,\n",
       "        validation_fraction=0.1, verbose=0, warm_start=False),\n",
       " SGDClassifier(alpha=0.0001, average=False, class_weight=None,\n",
       "        early_stopping=False, epsilon=0.1, eta0=0.0, fit_intercept=True,\n",
       "        l1_ratio=0.15, learning_rate='optimal', loss='hinge', max_iter=None,\n",
       "        n_iter=None, n_iter_no_change=5, n_jobs=None, penalty='l2',\n",
       "        power_t=0.5, random_state=42, shuffle=True, tol=None,\n",
       "        validation_fraction=0.1, verbose=0, warm_start=False),\n",
       " SGDClassifier(alpha=0.0001, average=False, class_weight=None,\n",
       "        early_stopping=False, epsilon=0.1, eta0=0.0, fit_intercept=True,\n",
       "        l1_ratio=0.15, learning_rate='optimal', loss='hinge', max_iter=None,\n",
       "        n_iter=None, n_iter_no_change=5, n_jobs=None, penalty='l2',\n",
       "        power_t=0.5, random_state=42, shuffle=True, tol=None,\n",
       "        validation_fraction=0.1, verbose=0, warm_start=False),\n",
       " SGDClassifier(alpha=0.0001, average=False, class_weight=None,\n",
       "        early_stopping=False, epsilon=0.1, eta0=0.0, fit_intercept=True,\n",
       "        l1_ratio=0.15, learning_rate='optimal', loss='hinge', max_iter=None,\n",
       "        n_iter=None, n_iter_no_change=5, n_jobs=None, penalty='l2',\n",
       "        power_t=0.5, random_state=42, shuffle=True, tol=None,\n",
       "        validation_fraction=0.1, verbose=0, warm_start=False),\n",
       " SGDClassifier(alpha=0.0001, average=False, class_weight=None,\n",
       "        early_stopping=False, epsilon=0.1, eta0=0.0, fit_intercept=True,\n",
       "        l1_ratio=0.15, learning_rate='optimal', loss='hinge', max_iter=None,\n",
       "        n_iter=None, n_iter_no_change=5, n_jobs=None, penalty='l2',\n",
       "        power_t=0.5, random_state=42, shuffle=True, tol=None,\n",
       "        validation_fraction=0.1, verbose=0, warm_start=False),\n",
       " SGDClassifier(alpha=0.0001, average=False, class_weight=None,\n",
       "        early_stopping=False, epsilon=0.1, eta0=0.0, fit_intercept=True,\n",
       "        l1_ratio=0.15, learning_rate='optimal', loss='hinge', max_iter=None,\n",
       "        n_iter=None, n_iter_no_change=5, n_jobs=None, penalty='l2',\n",
       "        power_t=0.5, random_state=42, shuffle=True, tol=None,\n",
       "        validation_fraction=0.1, verbose=0, warm_start=False),\n",
       " SGDClassifier(alpha=0.0001, average=False, class_weight=None,\n",
       "        early_stopping=False, epsilon=0.1, eta0=0.0, fit_intercept=True,\n",
       "        l1_ratio=0.15, learning_rate='optimal', loss='hinge', max_iter=None,\n",
       "        n_iter=None, n_iter_no_change=5, n_jobs=None, penalty='l2',\n",
       "        power_t=0.5, random_state=42, shuffle=True, tol=None,\n",
       "        validation_fraction=0.1, verbose=0, warm_start=False),\n",
       " SGDClassifier(alpha=0.0001, average=False, class_weight=None,\n",
       "        early_stopping=False, epsilon=0.1, eta0=0.0, fit_intercept=True,\n",
       "        l1_ratio=0.15, learning_rate='optimal', loss='hinge', max_iter=None,\n",
       "        n_iter=None, n_iter_no_change=5, n_jobs=None, penalty='l2',\n",
       "        power_t=0.5, random_state=42, shuffle=True, tol=None,\n",
       "        validation_fraction=0.1, verbose=0, warm_start=False),\n",
       " SGDClassifier(alpha=0.0001, average=False, class_weight=None,\n",
       "        early_stopping=False, epsilon=0.1, eta0=0.0, fit_intercept=True,\n",
       "        l1_ratio=0.15, learning_rate='optimal', loss='hinge', max_iter=None,\n",
       "        n_iter=None, n_iter_no_change=5, n_jobs=None, penalty='l2',\n",
       "        power_t=0.5, random_state=42, shuffle=True, tol=None,\n",
       "        validation_fraction=0.1, verbose=0, warm_start=False),\n",
       " SGDClassifier(alpha=0.0001, average=False, class_weight=None,\n",
       "        early_stopping=False, epsilon=0.1, eta0=0.0, fit_intercept=True,\n",
       "        l1_ratio=0.15, learning_rate='optimal', loss='hinge', max_iter=None,\n",
       "        n_iter=None, n_iter_no_change=5, n_jobs=None, penalty='l2',\n",
       "        power_t=0.5, random_state=42, shuffle=True, tol=None,\n",
       "        validation_fraction=0.1, verbose=0, warm_start=False),\n",
       " SGDClassifier(alpha=0.0001, average=False, class_weight=None,\n",
       "        early_stopping=False, epsilon=0.1, eta0=0.0, fit_intercept=True,\n",
       "        l1_ratio=0.15, learning_rate='optimal', loss='hinge', max_iter=None,\n",
       "        n_iter=None, n_iter_no_change=5, n_jobs=None, penalty='l2',\n",
       "        power_t=0.5, random_state=42, shuffle=True, tol=None,\n",
       "        validation_fraction=0.1, verbose=0, warm_start=False),\n",
       " SGDClassifier(alpha=0.0001, average=False, class_weight=None,\n",
       "        early_stopping=False, epsilon=0.1, eta0=0.0, fit_intercept=True,\n",
       "        l1_ratio=0.15, learning_rate='optimal', loss='hinge', max_iter=None,\n",
       "        n_iter=None, n_iter_no_change=5, n_jobs=None, penalty='l2',\n",
       "        power_t=0.5, random_state=42, shuffle=True, tol=None,\n",
       "        validation_fraction=0.1, verbose=0, warm_start=False),\n",
       " SGDClassifier(alpha=0.0001, average=False, class_weight=None,\n",
       "        early_stopping=False, epsilon=0.1, eta0=0.0, fit_intercept=True,\n",
       "        l1_ratio=0.15, learning_rate='optimal', loss='hinge', max_iter=None,\n",
       "        n_iter=None, n_iter_no_change=5, n_jobs=None, penalty='l2',\n",
       "        power_t=0.5, random_state=42, shuffle=True, tol=None,\n",
       "        validation_fraction=0.1, verbose=0, warm_start=False),\n",
       " SGDClassifier(alpha=0.0001, average=False, class_weight=None,\n",
       "        early_stopping=False, epsilon=0.1, eta0=0.0, fit_intercept=True,\n",
       "        l1_ratio=0.15, learning_rate='optimal', loss='hinge', max_iter=None,\n",
       "        n_iter=None, n_iter_no_change=5, n_jobs=None, penalty='l2',\n",
       "        power_t=0.5, random_state=42, shuffle=True, tol=None,\n",
       "        validation_fraction=0.1, verbose=0, warm_start=False),\n",
       " SGDClassifier(alpha=0.0001, average=False, class_weight=None,\n",
       "        early_stopping=False, epsilon=0.1, eta0=0.0, fit_intercept=True,\n",
       "        l1_ratio=0.15, learning_rate='optimal', loss='hinge', max_iter=None,\n",
       "        n_iter=None, n_iter_no_change=5, n_jobs=None, penalty='l2',\n",
       "        power_t=0.5, random_state=42, shuffle=True, tol=None,\n",
       "        validation_fraction=0.1, verbose=0, warm_start=False),\n",
       " SGDClassifier(alpha=0.0001, average=False, class_weight=None,\n",
       "        early_stopping=False, epsilon=0.1, eta0=0.0, fit_intercept=True,\n",
       "        l1_ratio=0.15, learning_rate='optimal', loss='hinge', max_iter=None,\n",
       "        n_iter=None, n_iter_no_change=5, n_jobs=None, penalty='l2',\n",
       "        power_t=0.5, random_state=42, shuffle=True, tol=None,\n",
       "        validation_fraction=0.1, verbose=0, warm_start=False),\n",
       " SGDClassifier(alpha=0.0001, average=False, class_weight=None,\n",
       "        early_stopping=False, epsilon=0.1, eta0=0.0, fit_intercept=True,\n",
       "        l1_ratio=0.15, learning_rate='optimal', loss='hinge', max_iter=None,\n",
       "        n_iter=None, n_iter_no_change=5, n_jobs=None, penalty='l2',\n",
       "        power_t=0.5, random_state=42, shuffle=True, tol=None,\n",
       "        validation_fraction=0.1, verbose=0, warm_start=False),\n",
       " SGDClassifier(alpha=0.0001, average=False, class_weight=None,\n",
       "        early_stopping=False, epsilon=0.1, eta0=0.0, fit_intercept=True,\n",
       "        l1_ratio=0.15, learning_rate='optimal', loss='hinge', max_iter=None,\n",
       "        n_iter=None, n_iter_no_change=5, n_jobs=None, penalty='l2',\n",
       "        power_t=0.5, random_state=42, shuffle=True, tol=None,\n",
       "        validation_fraction=0.1, verbose=0, warm_start=False),\n",
       " SGDClassifier(alpha=0.0001, average=False, class_weight=None,\n",
       "        early_stopping=False, epsilon=0.1, eta0=0.0, fit_intercept=True,\n",
       "        l1_ratio=0.15, learning_rate='optimal', loss='hinge', max_iter=None,\n",
       "        n_iter=None, n_iter_no_change=5, n_jobs=None, penalty='l2',\n",
       "        power_t=0.5, random_state=42, shuffle=True, tol=None,\n",
       "        validation_fraction=0.1, verbose=0, warm_start=False),\n",
       " SGDClassifier(alpha=0.0001, average=False, class_weight=None,\n",
       "        early_stopping=False, epsilon=0.1, eta0=0.0, fit_intercept=True,\n",
       "        l1_ratio=0.15, learning_rate='optimal', loss='hinge', max_iter=None,\n",
       "        n_iter=None, n_iter_no_change=5, n_jobs=None, penalty='l2',\n",
       "        power_t=0.5, random_state=42, shuffle=True, tol=None,\n",
       "        validation_fraction=0.1, verbose=0, warm_start=False),\n",
       " SGDClassifier(alpha=0.0001, average=False, class_weight=None,\n",
       "        early_stopping=False, epsilon=0.1, eta0=0.0, fit_intercept=True,\n",
       "        l1_ratio=0.15, learning_rate='optimal', loss='hinge', max_iter=None,\n",
       "        n_iter=None, n_iter_no_change=5, n_jobs=None, penalty='l2',\n",
       "        power_t=0.5, random_state=42, shuffle=True, tol=None,\n",
       "        validation_fraction=0.1, verbose=0, warm_start=False),\n",
       " SGDClassifier(alpha=0.0001, average=False, class_weight=None,\n",
       "        early_stopping=False, epsilon=0.1, eta0=0.0, fit_intercept=True,\n",
       "        l1_ratio=0.15, learning_rate='optimal', loss='hinge', max_iter=None,\n",
       "        n_iter=None, n_iter_no_change=5, n_jobs=None, penalty='l2',\n",
       "        power_t=0.5, random_state=42, shuffle=True, tol=None,\n",
       "        validation_fraction=0.1, verbose=0, warm_start=False),\n",
       " SGDClassifier(alpha=0.0001, average=False, class_weight=None,\n",
       "        early_stopping=False, epsilon=0.1, eta0=0.0, fit_intercept=True,\n",
       "        l1_ratio=0.15, learning_rate='optimal', loss='hinge', max_iter=None,\n",
       "        n_iter=None, n_iter_no_change=5, n_jobs=None, penalty='l2',\n",
       "        power_t=0.5, random_state=42, shuffle=True, tol=None,\n",
       "        validation_fraction=0.1, verbose=0, warm_start=False),\n",
       " SGDClassifier(alpha=0.0001, average=False, class_weight=None,\n",
       "        early_stopping=False, epsilon=0.1, eta0=0.0, fit_intercept=True,\n",
       "        l1_ratio=0.15, learning_rate='optimal', loss='hinge', max_iter=None,\n",
       "        n_iter=None, n_iter_no_change=5, n_jobs=None, penalty='l2',\n",
       "        power_t=0.5, random_state=42, shuffle=True, tol=None,\n",
       "        validation_fraction=0.1, verbose=0, warm_start=False),\n",
       " SGDClassifier(alpha=0.0001, average=False, class_weight=None,\n",
       "        early_stopping=False, epsilon=0.1, eta0=0.0, fit_intercept=True,\n",
       "        l1_ratio=0.15, learning_rate='optimal', loss='hinge', max_iter=None,\n",
       "        n_iter=None, n_iter_no_change=5, n_jobs=None, penalty='l2',\n",
       "        power_t=0.5, random_state=42, shuffle=True, tol=None,\n",
       "        validation_fraction=0.1, verbose=0, warm_start=False),\n",
       " SGDClassifier(alpha=0.0001, average=False, class_weight=None,\n",
       "        early_stopping=False, epsilon=0.1, eta0=0.0, fit_intercept=True,\n",
       "        l1_ratio=0.15, learning_rate='optimal', loss='hinge', max_iter=None,\n",
       "        n_iter=None, n_iter_no_change=5, n_jobs=None, penalty='l2',\n",
       "        power_t=0.5, random_state=42, shuffle=True, tol=None,\n",
       "        validation_fraction=0.1, verbose=0, warm_start=False),\n",
       " SGDClassifier(alpha=0.0001, average=False, class_weight=None,\n",
       "        early_stopping=False, epsilon=0.1, eta0=0.0, fit_intercept=True,\n",
       "        l1_ratio=0.15, learning_rate='optimal', loss='hinge', max_iter=None,\n",
       "        n_iter=None, n_iter_no_change=5, n_jobs=None, penalty='l2',\n",
       "        power_t=0.5, random_state=42, shuffle=True, tol=None,\n",
       "        validation_fraction=0.1, verbose=0, warm_start=False),\n",
       " SGDClassifier(alpha=0.0001, average=False, class_weight=None,\n",
       "        early_stopping=False, epsilon=0.1, eta0=0.0, fit_intercept=True,\n",
       "        l1_ratio=0.15, learning_rate='optimal', loss='hinge', max_iter=None,\n",
       "        n_iter=None, n_iter_no_change=5, n_jobs=None, penalty='l2',\n",
       "        power_t=0.5, random_state=42, shuffle=True, tol=None,\n",
       "        validation_fraction=0.1, verbose=0, warm_start=False),\n",
       " SGDClassifier(alpha=0.0001, average=False, class_weight=None,\n",
       "        early_stopping=False, epsilon=0.1, eta0=0.0, fit_intercept=True,\n",
       "        l1_ratio=0.15, learning_rate='optimal', loss='hinge', max_iter=None,\n",
       "        n_iter=None, n_iter_no_change=5, n_jobs=None, penalty='l2',\n",
       "        power_t=0.5, random_state=42, shuffle=True, tol=None,\n",
       "        validation_fraction=0.1, verbose=0, warm_start=False),\n",
       " SGDClassifier(alpha=0.0001, average=False, class_weight=None,\n",
       "        early_stopping=False, epsilon=0.1, eta0=0.0, fit_intercept=True,\n",
       "        l1_ratio=0.15, learning_rate='optimal', loss='hinge', max_iter=None,\n",
       "        n_iter=None, n_iter_no_change=5, n_jobs=None, penalty='l2',\n",
       "        power_t=0.5, random_state=42, shuffle=True, tol=None,\n",
       "        validation_fraction=0.1, verbose=0, warm_start=False),\n",
       " SGDClassifier(alpha=0.0001, average=False, class_weight=None,\n",
       "        early_stopping=False, epsilon=0.1, eta0=0.0, fit_intercept=True,\n",
       "        l1_ratio=0.15, learning_rate='optimal', loss='hinge', max_iter=None,\n",
       "        n_iter=None, n_iter_no_change=5, n_jobs=None, penalty='l2',\n",
       "        power_t=0.5, random_state=42, shuffle=True, tol=None,\n",
       "        validation_fraction=0.1, verbose=0, warm_start=False),\n",
       " SGDClassifier(alpha=0.0001, average=False, class_weight=None,\n",
       "        early_stopping=False, epsilon=0.1, eta0=0.0, fit_intercept=True,\n",
       "        l1_ratio=0.15, learning_rate='optimal', loss='hinge', max_iter=None,\n",
       "        n_iter=None, n_iter_no_change=5, n_jobs=None, penalty='l2',\n",
       "        power_t=0.5, random_state=42, shuffle=True, tol=None,\n",
       "        validation_fraction=0.1, verbose=0, warm_start=False))"
      ]
     },
     "execution_count": 33,
     "metadata": {},
     "output_type": "execute_result"
    }
   ],
   "source": [
    "ovo_clf.estimators_"
   ]
  },
  {
   "cell_type": "code",
   "execution_count": 34,
   "metadata": {},
   "outputs": [
    {
     "data": {
      "text/plain": [
       "array([6], dtype=int8)"
      ]
     },
     "execution_count": 34,
     "metadata": {},
     "output_type": "execute_result"
    }
   ],
   "source": [
    "forest_clf.fit(X_train, y_train)\n",
    "forest_clf.predict([some_digit])"
   ]
  },
  {
   "cell_type": "code",
   "execution_count": 35,
   "metadata": {},
   "outputs": [
    {
     "data": {
      "text/plain": [
       "array([[0.1, 0. , 0. , 0. , 0. , 0. , 0.9, 0. , 0. , 0. ]])"
      ]
     },
     "execution_count": 35,
     "metadata": {},
     "output_type": "execute_result"
    }
   ],
   "source": [
    "forest_clf.predict_proba([some_digit])"
   ]
  },
  {
   "cell_type": "code",
   "execution_count": 36,
   "metadata": {},
   "outputs": [
    {
     "data": {
      "text/plain": [
       "array([0.86552689, 0.87339367, 0.86507976])"
      ]
     },
     "execution_count": 36,
     "metadata": {},
     "output_type": "execute_result"
    }
   ],
   "source": [
    "cross_val_score(sgd_clf, X_train, y_train, cv=3, scoring='accuracy')"
   ]
  },
  {
   "cell_type": "code",
   "execution_count": 37,
   "metadata": {},
   "outputs": [
    {
     "data": {
      "text/plain": [
       "array([0.91321736, 0.90904545, 0.90618593])"
      ]
     },
     "execution_count": 37,
     "metadata": {},
     "output_type": "execute_result"
    }
   ],
   "source": [
    "# Standard Scaling input\n",
    "from sklearn.preprocessing import StandardScaler\n",
    "scaler = StandardScaler()\n",
    "X_train_scaled = scaler.fit_transform(X_train.astype(np.float64))\n",
    "cross_val_score(sgd_clf, X_train_scaled, y_train, cv=3, scoring='accuracy')"
   ]
  },
  {
   "cell_type": "markdown",
   "metadata": {},
   "source": [
    "Notice how scalling the input can make a huge difference on accuracy.\n",
    "\n",
    "#### Error Analysis"
   ]
  },
  {
   "cell_type": "code",
   "execution_count": 38,
   "metadata": {},
   "outputs": [
    {
     "data": {
      "text/plain": [
       "array([[5735,    4,   19,   10,   11,   48,   47,    9,   37,    3],\n",
       "       [   1, 6464,   46,   24,    6,   40,    7,   16,  127,   11],\n",
       "       [  57,   36, 5330,  105,   82,   26,   88,   58,  160,   16],\n",
       "       [  54,   38,  142, 5317,    1,  250,   37,   61,  136,   95],\n",
       "       [  18,   27,   35,    5, 5365,   11,   59,   34,   87,  201],\n",
       "       [  68,   41,   34,  180,   76, 4631,  110,   32,  155,   94],\n",
       "       [  28,   22,   43,    2,   42,   89, 5640,    6,   46,    0],\n",
       "       [  22,   21,   66,   29,   52,   12,    7, 5834,   15,  207],\n",
       "       [  52,  140,   73,  156,   16,  160,   53,   33, 5020,  148],\n",
       "       [  42,   32,   25,   86,  168,   47,    3,  236,   77, 5233]],\n",
       "      dtype=int64)"
      ]
     },
     "execution_count": 38,
     "metadata": {},
     "output_type": "execute_result"
    }
   ],
   "source": [
    "y_train_pred = cross_val_predict(sgd_clf, X_train_scaled, y_train, cv=3)\n",
    "conf_mx = confusion_matrix(y_train, y_train_pred)\n",
    "conf_mx"
   ]
  },
  {
   "cell_type": "code",
   "execution_count": 39,
   "metadata": {},
   "outputs": [
    {
     "data": {
      "text/plain": [
       "<matplotlib.image.AxesImage at 0x1ea35e033c8>"
      ]
     },
     "execution_count": 39,
     "metadata": {},
     "output_type": "execute_result"
    },
    {
     "data": {
      "image/png": "[encoded data removed]",
      "text/plain": [
       "<Figure size 288x288 with 1 Axes>"
      ]
     },
     "metadata": {
      "needs_background": "light"
     },
     "output_type": "display_data"
    }
   ],
   "source": [
    "plt.matshow(conf_mx, cmap=plt.cm.gray)"
   ]
  },
  {
   "cell_type": "markdown",
   "metadata": {},
   "source": [
    "NOTE: Most of the light colored images are along the diagnol, which means that these numbers are being classified correctly. But the image of number 5 looks slightly darker than others. This could mean \n",
    "- either dataset has fewer images of 5, or\n",
    "- the classifier doesn't perform well on 5 compared to others."
   ]
  },
  {
   "cell_type": "code",
   "execution_count": 40,
   "metadata": {},
   "outputs": [
    {
     "data": {
      "text/plain": [
       "<matplotlib.image.AxesImage at 0x1ea35e4acf8>"
      ]
     },
     "execution_count": 40,
     "metadata": {},
     "output_type": "execute_result"
    },
    {
     "data": {
      "image/png": "[encoded data removed]",
      "text/plain": [
       "<Figure size 288x288 with 1 Axes>"
      ]
     },
     "metadata": {
      "needs_background": "light"
     },
     "output_type": "display_data"
    }
   ],
   "source": [
    "row_sums = conf_mx.sum(axis=1, keepdims=True)\n",
    "norm_conf_mx = conf_mx / row_sums\n",
    "\n",
    "# ploting errors\n",
    "np.fill_diagonal(norm_conf_mx, 0)\n",
    "plt.matshow(norm_conf_mx, cmap=plt.cm.gray)"
   ]
  },
  {
   "cell_type": "markdown",
   "metadata": {},
   "source": [
    "NOTE: \n",
    "- columns of 8 and 9 are much brighter. This shows how often 8 and 9 are being confused with other numbers\n",
    "- in case 5 there is only particular boxes which are bright (ie 3). This shows how often 5 is being confused with 3."
   ]
  },
  {
   "cell_type": "code",
   "execution_count": 41,
   "metadata": {},
   "outputs": [
    {
     "data": {
      "application/javascript": [
       "\n",
       "        if (window._pyforest_update_imports_cell) { window._pyforest_update_imports_cell('import matplotlib as mpl\\nimport numpy as np'); }\n",
       "    "
      ],
      "text/plain": [
       "<IPython.core.display.Javascript object>"
      ]
     },
     "metadata": {},
     "output_type": "display_data"
    },
    {
     "data": {
      "application/javascript": [
       "\n",
       "        if (window._pyforest_update_imports_cell) { window._pyforest_update_imports_cell('import matplotlib as mpl\\nimport numpy as np'); }\n",
       "    "
      ],
      "text/plain": [
       "<IPython.core.display.Javascript object>"
      ]
     },
     "metadata": {},
     "output_type": "display_data"
    },
    {
     "data": {
      "application/javascript": [
       "\n",
       "        if (window._pyforest_update_imports_cell) { window._pyforest_update_imports_cell('import matplotlib as mpl\\nimport numpy as np'); }\n",
       "    "
      ],
      "text/plain": [
       "<IPython.core.display.Javascript object>"
      ]
     },
     "metadata": {},
     "output_type": "display_data"
    },
    {
     "data": {
      "application/javascript": [
       "\n",
       "        if (window._pyforest_update_imports_cell) { window._pyforest_update_imports_cell('import matplotlib as mpl\\nimport numpy as np'); }\n",
       "    "
      ],
      "text/plain": [
       "<IPython.core.display.Javascript object>"
      ]
     },
     "metadata": {},
     "output_type": "display_data"
    },
    {
     "data": {
      "image/png": "[encoded data removed]",
      "text/plain": [
       "<Figure size 576x576 with 4 Axes>"
      ]
     },
     "metadata": {
      "needs_background": "light"
     },
     "output_type": "display_data"
    }
   ],
   "source": [
    "def plot_digits(instances, images_per_row=10, **options):\n",
    "    size = 28\n",
    "    images_per_row = min(len(instances), images_per_row)\n",
    "    images = [instance.reshape(size,size) for instance in instances]\n",
    "    n_rows = (len(instances) - 1) // images_per_row + 1\n",
    "    row_images = []\n",
    "    n_empty = n_rows * images_per_row - len(instances)\n",
    "    images.append(np.zeros((size, size * n_empty)))\n",
    "    for row in range(n_rows):\n",
    "        rimages = images[row * images_per_row : (row + 1) * images_per_row]\n",
    "        row_images.append(np.concatenate(rimages, axis=1))\n",
    "    image = np.concatenate(row_images, axis=0)\n",
    "    plt.imshow(image, cmap = mpl.cm.binary, **options)\n",
    "    plt.axis(\"off\")\n",
    "\n",
    "cl_a, cl_b = 3, 5\n",
    "X_aa = X_train[(y_train == cl_a) & (y_train_pred == cl_a)]\n",
    "X_ab = X_train[(y_train == cl_a) & (y_train_pred == cl_b)]\n",
    "X_ba = X_train[(y_train == cl_b) & (y_train_pred == cl_a)]\n",
    "X_bb = X_train[(y_train == cl_b) & (y_train_pred == cl_b)]\n",
    "\n",
    "plt.figure(figsize=(8,8))\n",
    "plt.subplot(221); plot_digits(X_aa[:25], images_per_row=5)\n",
    "plt.subplot(222); plot_digits(X_ab[:25], images_per_row=5)\n",
    "plt.subplot(223); plot_digits(X_ba[:25], images_per_row=5)\n",
    "plt.subplot(224); plot_digits(X_bb[:25], images_per_row=5)"
   ]
  },
  {
   "cell_type": "markdown",
   "metadata": {},
   "source": [
    "### Multilabel Classification"
   ]
  },
  {
   "cell_type": "code",
   "execution_count": 42,
   "metadata": {},
   "outputs": [
    {
     "data": {
      "text/plain": [
       "KNeighborsClassifier(algorithm='auto', leaf_size=30, metric='minkowski',\n",
       "           metric_params=None, n_jobs=None, n_neighbors=5, p=2,\n",
       "           weights='uniform')"
      ]
     },
     "execution_count": 42,
     "metadata": {},
     "output_type": "execute_result"
    }
   ],
   "source": [
    "from sklearn.neighbors import KNeighborsClassifier\n",
    "\n",
    "y_train_large = (y_train >= 7)\n",
    "y_train_odd = (y_train % 2 == 1)\n",
    "y_multilabel = np.c_[y_train_large, y_train_odd]\n",
    "\n",
    "knn_clf = KNeighborsClassifier()\n",
    "knn_clf.fit(X_train, y_multilabel)"
   ]
  },
  {
   "cell_type": "markdown",
   "metadata": {},
   "source": [
    "This shows that 6 is neither large nor odd"
   ]
  },
  {
   "cell_type": "code",
   "execution_count": 43,
   "metadata": {},
   "outputs": [
    {
     "data": {
      "text/plain": [
       "array([[False, False]])"
      ]
     },
     "execution_count": 43,
     "metadata": {},
     "output_type": "execute_result"
    }
   ],
   "source": [
    "knn_clf.predict([some_digit])"
   ]
  },
  {
   "cell_type": "markdown",
   "metadata": {},
   "source": [
    "#### WARNING!!!\n",
    "Following cell may take hours to execute"
   ]
  },
  {
   "cell_type": "code",
   "execution_count": 44,
   "metadata": {},
   "outputs": [],
   "source": [
    "y_train_knn_pred = cross_val_predict(knn_clf, X_train, y_train, cv=3, n_jobs=2)"
   ]
  },
  {
   "cell_type": "code",
   "execution_count": 45,
   "metadata": {},
   "outputs": [
    {
     "data": {
      "text/plain": [
       "0.9684277468272913"
      ]
     },
     "execution_count": 45,
     "metadata": {},
     "output_type": "execute_result"
    }
   ],
   "source": [
    "f1_score(y_train, y_train_knn_pred, average='weighted')"
   ]
  },
  {
   "cell_type": "code",
   "execution_count": 48,
   "metadata": {},
   "outputs": [
    {
     "data": {
      "text/plain": [
       "0.968302724741951"
      ]
     },
     "execution_count": 48,
     "metadata": {},
     "output_type": "execute_result"
    }
   ],
   "source": [
    "f1_score(y_train, y_train_knn_pred, average='macro')"
   ]
  },
  {
   "cell_type": "markdown",
   "metadata": {},
   "source": [
    "### Multioutput Classification"
   ]
  },
  {
   "cell_type": "code",
   "execution_count": 50,
   "metadata": {},
   "outputs": [],
   "source": [
    "# Adding noise to images\n",
    "noise = np.random.randint(0, 100, (len(X_train), 784))\n",
    "X_train_mod = X_train + noise\n",
    "noise = np.random.randint(0, 100, (len(X_test), 784))\n",
    "X_test_mod = X_test + noise\n",
    "y_train_mod = X_train\n",
    "y_test_mod = X_test"
   ]
  },
  {
   "cell_type": "code",
   "execution_count": 58,
   "metadata": {},
   "outputs": [
    {
     "data": {
      "text/plain": [
       "<matplotlib.image.AxesImage at 0x1ea35f3c0f0>"
      ]
     },
     "execution_count": 58,
     "metadata": {},
     "output_type": "execute_result"
    },
    {
     "data": {
      "image/png": "[encoded data removed]",
      "text/plain": [
       "<Figure size 432x288 with 1 Axes>"
      ]
     },
     "metadata": {
      "needs_background": "light"
     },
     "output_type": "display_data"
    }
   ],
   "source": [
    "some_digit_test = X_train[5000]\n",
    "some_digit_test_img = some_digit_test.reshape(28, 28)\n",
    "\n",
    "plt.imshow(some_digit_test_img, cmap=plt.cm.gray, interpolation='nearest')"
   ]
  },
  {
   "cell_type": "code",
   "execution_count": 59,
   "metadata": {},
   "outputs": [
    {
     "data": {
      "text/plain": [
       "<matplotlib.image.AxesImage at 0x1ea7629a390>"
      ]
     },
     "execution_count": 59,
     "metadata": {},
     "output_type": "execute_result"
    },
    {
     "data": {
      "image/png": "[encoded data removed]",
      "text/plain": [
       "<Figure size 432x288 with 1 Axes>"
      ]
     },
     "metadata": {
      "needs_background": "light"
     },
     "output_type": "display_data"
    }
   ],
   "source": [
    "knn_clf.fit(X_train_mod, y_train_mod)\n",
    "clean_digit = knn_clf.predict([some_digit_test])\n",
    "plt.imshow(some_digit_test_img, cmap=plt.cm.gray, interpolation='nearest')"
   ]
  }
 ],
 "metadata": {
  "kernelspec": {
   "display_name": "Python 3",
   "language": "python",
   "name": "python3"
  },
  "language_info": {
   "codemirror_mode": {
    "name": "ipython",
    "version": 3
   },
   "file_extension": ".py",
   "mimetype": "text/x-python",
   "name": "python",
   "nbconvert_exporter": "python",
   "pygments_lexer": "ipython3",
   "version": "3.7.3"
  }
 },
 "nbformat": 4,
 "nbformat_minor": 2
}
